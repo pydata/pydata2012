{
 "metadata": {
  "name": "numpy_scipy_intro"
 },
 "nbformat": 3,
 "worksheets": [
  {
   "cells": [
    {
     "cell_type": "markdown",
     "source": [
      "# PyData: Introduction to NumPy and SciPy",
      "# 02/03/2011"
     ]
    },
    {
     "cell_type": "markdown",
     "source": [
      "## NumPy package overview",
      "",
      "  1. An array object of arbitrary homogeneous items",
      "  2. Fast mathematical operations over arrays",
      "  3. Linear Algebra, Fourier Transforms, Random Number Generation"
     ]
    },
    {
     "cell_type": "code",
     "collapsed": false,
     "input": [
      "import numpy as np",
      "np.__version__"
     ],
     "language": "python",
     "outputs": [
      {
       "output_type": "pyout",
       "prompt_number": 21,
       "text": [
        "'2.0.0.dev-7f302cc'"
       ]
      }
     ],
     "prompt_number": 21
    },
    {
     "cell_type": "code",
     "collapsed": true,
     "input": [
      "import matplotlib.pyplot as plt"
     ],
     "language": "python",
     "outputs": [],
     "prompt_number": 22
    },
    {
     "cell_type": "markdown",
     "source": [
      "## Where to get help",
      "",
      "- http://docs.scipy.org",
      "- Forums: mailing list, http://ask.scipy.org, http://stackoverflow.com",
      "",
      "## Where do I learn more?",
      "",
      "- <a href=\"http://mentat.za.net/numpy/intro/intro.html\">NumPy introductory tutorial</a>",
      "- <a href=\"http://scipy-lectures.github.com\">SciPy Lectures</a>"
     ]
    },
    {
     "cell_type": "markdown",
     "source": [
      "Let's make sure you are comfortable in your IPython environment:",
      "",
      "- Tab completion",
      "- Docstring inspection",
      "- Magic commands: %timeit, %paste, %loadpy, %run",
      "- Compare notebook vs qtconsole vs terminal"
     ]
    },
    {
     "cell_type": "code",
     "collapsed": false,
     "input": [
      "%qtconsole"
     ],
     "language": "python",
     "outputs": [],
     "prompt_number": 23
    },
    {
     "cell_type": "code",
     "collapsed": false,
     "input": [
      "%run test"
     ],
     "language": "python",
     "outputs": [
      {
       "output_type": "stream",
       "stream": "stdout",
       "text": [
        "hello world"
       ]
      }
     ],
     "prompt_number": 24
    },
    {
     "cell_type": "markdown",
     "source": [
      "## NumPy vs Python -- a speed comparison"
     ]
    },
    {
     "cell_type": "code",
     "collapsed": false,
     "input": [
      "x = np.random.random(1024)",
      "",
      "%timeit [t**2 for t in x]",
      "%timeit x**2"
     ],
     "language": "python",
     "outputs": [
      {
       "output_type": "stream",
       "stream": "stdout",
       "text": [
        "1000 loops, best of 3: 1.43 ms per loop",
        "100000 loops, best of 3: 3.76 us per loop"
       ]
      },
      {
       "output_type": "stream",
       "stream": "stdout",
       "text": [
        ""
       ]
      }
     ],
     "prompt_number": 75
    },
    {
     "cell_type": "markdown",
     "source": [
      "## The structure of a NumPy array"
     ]
    },
    {
     "cell_type": "markdown",
     "source": [
      "<img src=\"files/ndarray_struct.svg\" size=\"20%\"/>"
     ]
    },
    {
     "cell_type": "code",
     "collapsed": false,
     "input": [
      "x = np.array([[1, 4], [2, 8]], dtype=np.uint8)",
      "x"
     ],
     "language": "python",
     "outputs": [
      {
       "output_type": "pyout",
       "prompt_number": 45,
       "text": [
        "array([[1, 4],",
        "       [2, 8]], dtype=uint8)"
       ]
      }
     ],
     "prompt_number": 45
    },
    {
     "cell_type": "code",
     "collapsed": false,
     "input": [
      "x.shape, x.dtype, x.strides, x.size, x.data"
     ],
     "language": "python",
     "outputs": [
      {
       "output_type": "pyout",
       "prompt_number": 46,
       "text": [
        "((2, 2),",
        " dtype('uint8'),",
        " (2, 1),",
        " 4,",
        " <read-write buffer for 0x3575770, size 4, offset 0 at 0x38123f0>)"
       ]
      }
     ],
     "prompt_number": 46
    },
    {
     "cell_type": "code",
     "collapsed": false,
     "input": [
      "print [ord(c) for c in x.data]"
     ],
     "language": "python",
     "outputs": [
      {
       "output_type": "stream",
       "stream": "stdout",
       "text": [
        "[1, 4, 2, 8]"
       ]
      }
     ],
     "prompt_number": 47
    },
    {
     "cell_type": "markdown",
     "source": [
      "## Constructing arrays"
     ]
    },
    {
     "cell_type": "code",
     "collapsed": false,
     "input": [
      "np.zeros((3,3))"
     ],
     "language": "python",
     "outputs": [
      {
       "output_type": "pyout",
       "prompt_number": 25,
       "text": [
        "array([[ 0.,  0.,  0.],",
        "       [ 0.,  0.,  0.],",
        "       [ 0.,  0.,  0.]])"
       ]
      }
     ],
     "prompt_number": 25
    },
    {
     "cell_type": "code",
     "collapsed": false,
     "input": [
      "np.ones((2, 2))"
     ],
     "language": "python",
     "outputs": [
      {
       "output_type": "pyout",
       "prompt_number": 26,
       "text": [
        "array([[ 1.,  1.],",
        "       [ 1.,  1.]])"
       ]
      }
     ],
     "prompt_number": 26
    },
    {
     "cell_type": "code",
     "collapsed": false,
     "input": [
      "x = np.empty((2, 2))",
      "x"
     ],
     "language": "python",
     "outputs": [
      {
       "output_type": "pyout",
       "prompt_number": 29,
       "text": [
        "array([[  0.00000000e+000,   4.29099571e-317],",
        "       [  3.08622098e-316,   1.06375258e-316]])"
       ]
      }
     ],
     "prompt_number": 29
    },
    {
     "cell_type": "code",
     "collapsed": false,
     "input": [
      "np.zeros_like(x)"
     ],
     "language": "python",
     "outputs": [
      {
       "output_type": "pyout",
       "prompt_number": 30,
       "text": [
        "array([[ 0.,  0.],",
        "       [ 0.,  0.]])"
       ]
      }
     ],
     "prompt_number": 30
    },
    {
     "cell_type": "code",
     "collapsed": false,
     "input": [
      "np.diag([1, 2, 3])"
     ],
     "language": "python",
     "outputs": [
      {
       "output_type": "pyout",
       "prompt_number": 31,
       "text": [
        "array([[1, 0, 0],",
        "       [0, 2, 0],",
        "       [0, 0, 3]])"
       ]
      }
     ],
     "prompt_number": 31
    },
    {
     "cell_type": "code",
     "collapsed": false,
     "input": [
      "np.eye(3)"
     ],
     "language": "python",
     "outputs": [
      {
       "output_type": "pyout",
       "prompt_number": 32,
       "text": [
        "array([[ 1.,  0.,  0.],",
        "       [ 0.,  1.,  0.],",
        "       [ 0.,  0.,  1.]])"
       ]
      }
     ],
     "prompt_number": 32
    },
    {
     "cell_type": "code",
     "collapsed": false,
     "input": [
      "np.random.random((3, 3)) # whick kind?"
     ],
     "language": "python",
     "outputs": [
      {
       "output_type": "pyout",
       "prompt_number": 38,
       "text": [
        "array([[ 0.00787819,  0.36848661,  0.31869234],",
        "       [ 0.86500956,  0.30282794,  0.85699127],",
        "       [ 0.51951301,  0.35215536,  0.85616153]])"
       ]
      }
     ],
     "prompt_number": 38
    },
    {
     "cell_type": "code",
     "collapsed": false,
     "input": [
      "x = np.random.random((2,2,3,2,2))"
     ],
     "language": "python",
     "outputs": [],
     "prompt_number": 59
    },
    {
     "cell_type": "code",
     "collapsed": false,
     "input": [
      "print x.shape"
     ],
     "language": "python",
     "outputs": [
      {
       "output_type": "stream",
       "stream": "stdout",
       "text": [
        "(2, 2, 3, 2, 2)"
       ]
      }
     ],
     "prompt_number": 60
    },
    {
     "cell_type": "markdown",
     "source": [
      "## Shape"
     ]
    },
    {
     "cell_type": "code",
     "collapsed": false,
     "input": [
      "x = np.arange(12)",
      "x"
     ],
     "language": "python",
     "outputs": [
      {
       "output_type": "pyout",
       "prompt_number": 35,
       "text": [
        "array([ 0,  1,  2,  3,  4,  5,  6,  7,  8,  9, 10, 11])"
       ]
      }
     ],
     "prompt_number": 35
    },
    {
     "cell_type": "code",
     "collapsed": false,
     "input": [
      "x.reshape((3, 4))"
     ],
     "language": "python",
     "outputs": [
      {
       "output_type": "pyout",
       "prompt_number": 36,
       "text": [
        "array([[ 0,  1,  2,  3],",
        "       [ 4,  5,  6,  7],",
        "       [ 8,  9, 10, 11]])"
       ]
      }
     ],
     "prompt_number": 36
    },
    {
     "cell_type": "markdown",
     "source": [
      "## Visualization"
     ]
    },
    {
     "cell_type": "code",
     "collapsed": true,
     "input": [
      "import matplotlib.pyplot as plt"
     ],
     "language": "python",
     "outputs": [],
     "prompt_number": 50
    },
    {
     "cell_type": "code",
     "collapsed": false,
     "input": [
      "x = np.linspace(0, 10, 1000)",
      "plt.plot(x)"
     ],
     "language": "python",
     "outputs": [
      {
       "output_type": "pyout",
       "prompt_number": 53,
       "text": [
        "[<matplotlib.lines.Line2D at 0x40bc110>]"
       ]
      },
      {
       "output_type": "display_data",
       "png": "[encoded data removed]"
      }
     ],
     "prompt_number": 53
    },
    {
     "cell_type": "code",
     "collapsed": false,
     "input": [
      "x = np.random.random((100, 100))",
      "plt.imshow(x, interpolation='none', cmap=plt.cm.gray)"
     ],
     "language": "python",
     "outputs": [
      {
       "output_type": "pyout",
       "prompt_number": 55,
       "text": [
        "<matplotlib.image.AxesImage at 0x44fd990>"
       ]
      },
      {
       "output_type": "display_data",
       "png": "[encoded data removed]"
      }
     ],
     "prompt_number": 55
    },
    {
     "cell_type": "markdown",
     "source": [
      "## Indexing"
     ]
    },
    {
     "cell_type": "code",
     "collapsed": false,
     "input": [
      "x = np.array([[1, 2, 3], [3, 2, 1]])",
      "x"
     ],
     "language": "python",
     "outputs": [
      {
       "output_type": "pyout",
       "prompt_number": 64,
       "text": [
        "array([[1, 2, 3],",
        "       [3, 2, 1]])"
       ]
      }
     ],
     "prompt_number": 64
    },
    {
     "cell_type": "code",
     "collapsed": false,
     "input": [
      "x[0, 1]"
     ],
     "language": "python",
     "outputs": [
      {
       "output_type": "pyout",
       "prompt_number": 66,
       "text": [
        "2"
       ]
      }
     ],
     "prompt_number": 66
    },
    {
     "cell_type": "code",
     "collapsed": false,
     "input": [
      "x[1]"
     ],
     "language": "python",
     "outputs": [
      {
       "output_type": "pyout",
       "prompt_number": 69,
       "text": [
        "array([3, 2, 1])"
       ]
      }
     ],
     "prompt_number": 69
    },
    {
     "cell_type": "code",
     "collapsed": false,
     "input": [
      "x[:, 1:3]"
     ],
     "language": "python",
     "outputs": [
      {
       "output_type": "pyout",
       "prompt_number": 72,
       "text": [
        "array([[2, 3],",
        "       [2, 1]])"
       ]
      }
     ],
     "prompt_number": 72
    },
    {
     "cell_type": "markdown",
     "source": [
      "### Fancy indexing -- indexing with arrays"
     ]
    },
    {
     "cell_type": "code",
     "collapsed": false,
     "input": [
      "x = np.arange(100).reshape((10, 10))",
      "plt.imshow(x, interpolation='nearest')"
     ],
     "language": "python",
     "outputs": [
      {
       "output_type": "pyout",
       "prompt_number": 88,
       "text": [
        "<matplotlib.image.AxesImage at 0x4d5b310>"
       ]
      },
      {
       "output_type": "display_data",
       "png": "[encoded data removed]"
      }
     ],
     "prompt_number": 88
    },
    {
     "cell_type": "code",
     "collapsed": false,
     "input": [
      "mask = (x < 50)",
      "mask[:5, :5]"
     ],
     "language": "python",
     "outputs": [
      {
       "output_type": "pyout",
       "prompt_number": 91,
       "text": [
        "array([[ True,  True,  True,  True,  True],",
        "       [ True,  True,  True,  True,  True],",
        "       [ True,  True,  True,  True,  True],",
        "       [ True,  True,  True,  True,  True],",
        "       [ True,  True,  True,  True,  True]], dtype=bool)"
       ]
      }
     ],
     "prompt_number": 91
    },
    {
     "cell_type": "code",
     "collapsed": false,
     "input": [
      "mask.shape"
     ],
     "language": "python",
     "outputs": [
      {
       "output_type": "pyout",
       "prompt_number": 92,
       "text": [
        "(10, 10)"
       ]
      }
     ],
     "prompt_number": 92
    },
    {
     "cell_type": "code",
     "collapsed": false,
     "input": [
      "x[mask]"
     ],
     "language": "python",
     "outputs": [
      {
       "output_type": "pyout",
       "prompt_number": 93,
       "text": [
        "array([ 0,  1,  2,  3,  4,  5,  6,  7,  8,  9, 10, 11, 12, 13, 14, 15, 16,",
        "       17, 18, 19, 20, 21, 22, 23, 24, 25, 26, 27, 28, 29, 30, 31, 32, 33,",
        "       34, 35, 36, 37, 38, 39, 40, 41, 42, 43, 44, 45, 46, 47, 48, 49])"
       ]
      }
     ],
     "prompt_number": 93
    },
    {
     "cell_type": "code",
     "collapsed": false,
     "input": [
      "x[mask] = 0",
      "plt.imshow(x, interpolation='none')"
     ],
     "language": "python",
     "outputs": [
      {
       "output_type": "pyout",
       "prompt_number": 96,
       "text": [
        "<matplotlib.image.AxesImage at 0x53709d0>"
       ]
      },
      {
       "output_type": "display_data",
       "png": "[encoded data removed]"
      }
     ],
     "prompt_number": 96
    },
    {
     "cell_type": "markdown",
     "source": [
      "### Views"
     ]
    },
    {
     "cell_type": "code",
     "collapsed": false,
     "input": [
      "x = np.arange(10)",
      "y = x[0:3]",
      "",
      "print x, y"
     ],
     "language": "python",
     "outputs": [
      {
       "output_type": "stream",
       "stream": "stdout",
       "text": [
        "[0 1 2 3 4 5 6 7 8 9] [0 1 2]"
       ]
      }
     ],
     "prompt_number": 97
    },
    {
     "cell_type": "code",
     "collapsed": true,
     "input": [
      "y.fill(8)"
     ],
     "language": "python",
     "outputs": [],
     "prompt_number": 98
    },
    {
     "cell_type": "code",
     "collapsed": false,
     "input": [
      "print x, y"
     ],
     "language": "python",
     "outputs": [
      {
       "output_type": "stream",
       "stream": "stdout",
       "text": [
        "[8 8 8 3 4 5 6 7 8 9] [8 8 8]"
       ]
      }
     ],
     "prompt_number": 99
    },
    {
     "cell_type": "markdown",
     "source": [
      "## Data types"
     ]
    },
    {
     "cell_type": "code",
     "collapsed": false,
     "input": [
      "x = np.array([1,2,3])",
      "print x.dtype"
     ],
     "language": "python",
     "outputs": [
      {
       "output_type": "stream",
       "stream": "stdout",
       "text": [
        "int64"
       ]
      }
     ],
     "prompt_number": 83
    },
    {
     "cell_type": "code",
     "collapsed": false,
     "input": [
      "x = np.array([1.5, 2, 3])",
      "print x.dtype"
     ],
     "language": "python",
     "outputs": [
      {
       "output_type": "stream",
       "stream": "stdout",
       "text": [
        "float64"
       ]
      }
     ],
     "prompt_number": 84
    },
    {
     "cell_type": "code",
     "collapsed": false,
     "input": [
      "x = np.array([1, 2, 3], dtype=np.float)",
      "print x.dtype"
     ],
     "language": "python",
     "outputs": [
      {
       "output_type": "stream",
       "stream": "stdout",
       "text": [
        "float64"
       ]
      }
     ],
     "prompt_number": 85
    },
    {
     "cell_type": "markdown",
     "source": [
      "## Broadcasting",
      "",
      "<img src=\"files/broadcast_scalar.svg\" width=\"20%\"/>",
      "<p>&nbsp;</p>",
      "<img src=\"files/broadcast_2D.svg\" width=\"20%\"/>"
     ]
    },
    {
     "cell_type": "markdown",
     "source": [
      "<img src=\"broadcast_scalar.svg\"/>"
     ]
    },
    {
     "cell_type": "code",
     "collapsed": false,
     "input": [
      "x, y = np.ogrid[:5:0.5, :5:0.5]"
     ],
     "language": "python",
     "outputs": [],
     "prompt_number": 19
    },
    {
     "cell_type": "code",
     "collapsed": false,
     "input": [
      "plt.imshow(x**2 + y**2, interpolation='none')"
     ],
     "language": "python",
     "outputs": [
      {
       "output_type": "pyout",
       "prompt_number": 20,
       "text": [
        "<matplotlib.image.AxesImage at 0x3ae3890>"
       ]
      },
      {
       "output_type": "display_data",
       "png": "[encoded data removed]"
      }
     ],
     "prompt_number": 20
    },
    {
     "cell_type": "markdown",
     "source": [
      "## Expressions and universal functions"
     ]
    },
    {
     "cell_type": "code",
     "collapsed": false,
     "input": [
      "x = np.linspace(0, 2 * np.pi, 1000)",
      "y = np.sin(x) ** 3",
      "",
      "plt.plot(x, y)"
     ],
     "language": "python",
     "outputs": [
      {
       "output_type": "pyout",
       "prompt_number": 74,
       "text": [
        "[<matplotlib.lines.Line2D at 0x4900c10>]"
       ]
      },
      {
       "output_type": "display_data",
       "png": "[encoded data removed]"
      }
     ],
     "prompt_number": 74
    },
    {
     "cell_type": "code",
     "collapsed": false,
     "input": [
      "theta = np.deg2rad(1)",
      "R = np.array([[np.cos(theta), -np.sin(theta)],",
      "              [np.sin(theta), np.cos(theta)]])",
      "v = np.random.random((100, 2))",
      "v_ = R.dot(v.T).T",
      "",
      "plt.plot(v[:, 0], v[:, 1], 'r.')",
      "plt.plot(v_[:, 0], v_[:, 1], 'b.')"
     ],
     "language": "python",
     "outputs": [
      {
       "output_type": "pyout",
       "prompt_number": 129,
       "text": [
        "[<matplotlib.lines.Line2D at 0x6639450>]"
       ]
      },
      {
       "output_type": "display_data",
       "png": "[encoded data removed]"
      }
     ],
     "prompt_number": 129
    },
    {
     "cell_type": "code",
     "collapsed": false,
     "input": [
      "theta = np.deg2rad(1)",
      "R = np.array([[np.cos(theta), -np.sin(theta)],",
      "              [np.sin(theta), np.cos(theta)]])",
      "v = np.random.random((100, 2))",
      "plt.plot(v[:, 0], v[:, 1], 'r.')",
      "v_ = R.dot(v.T).T",
      "",
      "for i in range(100):",
      "    v_ = R.dot(v_.T).T",
      "    plt.plot(v_[:, 0], v_[:, 1], 'b.', markersize=3, alpha=0.1)"
     ],
     "language": "python",
     "outputs": [
      {
       "output_type": "display_data",
       "png": "[encoded data removed]"
      }
     ],
     "prompt_number": 137
    },
    {
     "cell_type": "markdown",
     "source": [
      "## Input/output"
     ]
    },
    {
     "cell_type": "code",
     "collapsed": false,
     "input": [
      "hand = np.loadtxt('hand.txt')",
      "hand[:5]"
     ],
     "language": "python",
     "outputs": [
      {
       "output_type": "pyout",
       "prompt_number": 78,
       "text": [
        "array([[ 1.64516129,  1.16145833],",
        "       [ 1.64516129,  1.59375   ],",
        "       [ 1.35080645,  1.921875  ],",
        "       [ 1.375     ,  2.18229167],",
        "       [ 1.68548387,  1.9375    ]])"
       ]
      }
     ],
     "prompt_number": 78
    },
    {
     "cell_type": "code",
     "collapsed": false,
     "input": [
      "plt.plot(hand[:, 0], hand[:, 1])"
     ],
     "language": "python",
     "outputs": [
      {
       "output_type": "pyout",
       "prompt_number": 79,
       "text": [
        "[<matplotlib.lines.Line2D at 0x4b19690>]"
       ]
      },
      {
       "output_type": "display_data",
       "png": "[encoded data removed]"
      }
     ],
     "prompt_number": 79
    },
    {
     "cell_type": "code",
     "collapsed": true,
     "input": [
      "# NumPy binary format--do not pickle"
     ],
     "language": "python",
     "outputs": [],
     "prompt_number": 80
    },
    {
     "cell_type": "markdown",
     "source": [
      "## Structured arrays"
     ]
    },
    {
     "cell_type": "code",
     "collapsed": true,
     "input": [
      "dt = np.dtype([('station', 'S4'), ('year', int), ('level', (float, 12))])"
     ],
     "language": "python",
     "outputs": [],
     "prompt_number": 103
    },
    {
     "cell_type": "code",
     "collapsed": false,
     "input": [
      "x = np.zeros((3,), dtype=dt)",
      "x"
     ],
     "language": "python",
     "outputs": [
      {
       "output_type": "pyout",
       "prompt_number": 104,
       "text": [
        "array([('', 0, [0.0, 0.0, 0.0, 0.0, 0.0, 0.0, 0.0, 0.0, 0.0, 0.0, 0.0, 0.0]),",
        "       ('', 0, [0.0, 0.0, 0.0, 0.0, 0.0, 0.0, 0.0, 0.0, 0.0, 0.0, 0.0, 0.0]),",
        "       ('', 0, [0.0, 0.0, 0.0, 0.0, 0.0, 0.0, 0.0, 0.0, 0.0, 0.0, 0.0, 0.0])], ",
        "      dtype=[('station', 'S4'), ('year', '<i8'), ('level', '<f8', (12,))])"
       ]
      }
     ],
     "prompt_number": 104
    },
    {
     "cell_type": "code",
     "collapsed": false,
     "input": [
      "r = np.loadtxt('rainfall.txt', dtype=dt)"
     ],
     "language": "python",
     "outputs": [],
     "prompt_number": 106
    },
    {
     "cell_type": "code",
     "collapsed": false,
     "input": [
      "r['station']"
     ],
     "language": "python",
     "outputs": [
      {
       "output_type": "pyout",
       "prompt_number": 107,
       "text": [
        "array(['AAEF', 'CABF', 'BDII', 'IPLS'], ",
        "      dtype='|S4')"
       ]
      }
     ],
     "prompt_number": 107
    },
    {
     "cell_type": "code",
     "collapsed": false,
     "input": [
      "mask = (r['station'] == 'AAEF')",
      "r[mask]"
     ],
     "language": "python",
     "outputs": [
      {
       "output_type": "pyout",
       "prompt_number": 110,
       "text": [
        "array([ ('AAEF', 1980, [0.1, 0.3, 1.1, 0.4, 3.1, 1.8, 8.6, 3.4, 1.2, 3.3, 9.5, 1.2])], ",
        "      dtype=[('station', 'S4'), ('year', '<i8'), ('level', '<f8', (12,))])"
       ]
      }
     ],
     "prompt_number": 110
    },
    {
     "cell_type": "code",
     "collapsed": false,
     "input": [
      "r[mask]['level']"
     ],
     "language": "python",
     "outputs": [
      {
       "output_type": "pyout",
       "prompt_number": 113,
       "text": [
        "array([[ 0.1,  0.3,  1.1,  0.4,  3.1,  1.8,  8.6,  3.4,  1.2,  3.3,  9.5,",
        "         1.2]])"
       ]
      }
     ],
     "prompt_number": 113
    },
    {
     "cell_type": "markdown",
     "source": [
      "## SciPy -- overview"
     ]
    },
    {
     "cell_type": "markdown",
     "source": [
      "## Hands-on Session--see separate notebook"
     ]
    }
   ]
  }
 ]
}